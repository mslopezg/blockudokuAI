{
 "cells": [
  {
   "cell_type": "code",
   "execution_count": 1,
   "metadata": {},
   "outputs": [
    {
     "name": "stdout",
     "output_type": "stream",
     "text": [
      "pygame 1.9.6\n",
      "Hello from the pygame community. https://www.pygame.org/contribute.html\n"
     ]
    }
   ],
   "source": [
    "import numpy as np\n",
    "import pygame, sys\n",
    "from pygame.locals import *"
   ]
  },
  {
   "cell_type": "code",
   "execution_count": 2,
   "metadata": {},
   "outputs": [],
   "source": [
    "WIDTH = HEIGHT = 576\n",
    "    \n",
    "DIMENSION = 9\n",
    "    \n",
    "SQ_SIZE = HEIGHT // DIMENSION\n",
    "    \n",
    "MAX_FPS = 15\n",
    "WHITE=(255,255,255)\n",
    "BLUE=(0,0,255)\n",
    "RED = (255, 0, 0)\n",
    "BLACK = (0,0,0)\n",
    "\n",
    "# can rotate all pieces with np.rot90(m, k=1)\n",
    "\n",
    "# m \tArray of two or more dimensions. \n",
    "# k \tNumber of times the array is rotated by 90 degrees. \n",
    "\n",
    "\n",
    "pieces = [\n",
    "        np.array([[1, 1],\n",
    "                  [1, 1]]), # 0\n",
    "\n",
    "        np.array([[0, 1, 0],\n",
    "                  [1, 1, 1]]), # 1\n",
    "\n",
    "        np.array([[0, 1, 1],\n",
    "                  [1, 1, 0]]), # 2\n",
    "\n",
    "        np.array([[0, 1, 0],\n",
    "                  [0, 1, 0],\n",
    "                  [1, 1, 1]]), # 3\n",
    "\n",
    "        np.array([[1, 1, 1, 1]]), # 4\n",
    "\n",
    "        np.array([[1, 1, 1]]), # 5\n",
    "\n",
    "        np.array([[0, 1],\n",
    "                  [1, 1]]), # 6\n",
    "\n",
    "        np.array([[1, 0, 0],\n",
    "                  [1, 1, 1]]), # 7\n",
    "\n",
    "        np.array([[1, 0, 0],\n",
    "                  [1, 0, 0],\n",
    "                  [1, 1, 1]]), # 8\n",
    "        \n",
    "        np.array([[1, 1]]), # 9\n",
    "    \n",
    "        np.array([[1, 0, 0],\n",
    "                  [0, 1, 0],\n",
    "                  [0, 0, 1]]), # 10\n",
    "    \n",
    "        np.array([[1, 0],\n",
    "                  [0, 1]]) # 11\n",
    "    \n",
    "    ]"
   ]
  },
  {
   "cell_type": "code",
   "execution_count": 3,
   "metadata": {},
   "outputs": [],
   "source": [
    "class GameState():\n",
    "    def __init__(self, screen, all_sprites):\n",
    "        self.board = np.zeros((9,9), dtype = int)\n",
    "        \n",
    "        # assign random piece indices\n",
    "        p = np.random.rand(3)\n",
    "        \n",
    "        pr = []\n",
    "        y_off = 0\n",
    "        # make piece orientation random\n",
    "        for i in p:\n",
    "            rotated = np.rot90(pieces[int(round(i*9))], k=int(round(np.random.rand()*9)))\n",
    "            piece_object = Piece(piece=rotated,clicked=0,placed = 0, screen=screen, y_off = y_off)\n",
    "            all_sprites.add(piece_object)\n",
    "            pr.append(piece_object)\n",
    "            y_off += (1+rotated.shape[0])*SQ_SIZE\n",
    "         \n",
    "        # piece is object with a piece and a flag if placed\n",
    "        self.pcs = pr\n",
    "        self.lose = False"
   ]
  },
  {
   "cell_type": "code",
   "execution_count": 4,
   "metadata": {},
   "outputs": [],
   "source": [
    "def drawUnplaced(screen,gs,square):\n",
    "    y_offset = 0\n",
    "    for piece,flag in gs.pcs:\n",
    "        x,y = piece.shape\n",
    "        if flag == 0:\n",
    "            for r in range(x):\n",
    "                for c in range(y):\n",
    "                    if piece[r][c] == 1:\n",
    "                        screen.blit(square,((DIMENSION+1)*SQ_SIZE+c*SQ_SIZE,r*SQ_SIZE + y_offset, SQ_SIZE-2, SQ_SIZE-2))      \n",
    "        y_offset += (1+x)*SQ_SIZE"
   ]
  },
  {
   "cell_type": "code",
   "execution_count": 5,
   "metadata": {},
   "outputs": [],
   "source": [
    "class Piece(pygame.sprite.Sprite): \n",
    "    def __init__(self, piece, clicked, placed, screen, y_off):\n",
    "        pygame.sprite.Sprite.__init__(self)\n",
    "        self.piece = piece\n",
    "        self.clicked = clicked\n",
    "        self.placed = placed\n",
    "        self.y_off = y_off\n",
    "        self.screen = screen\n",
    "        r,c = self.piece.shape\n",
    "        \n",
    "        self.image = pygame.Surface((c*(SQ_SIZE-2),r*(SQ_SIZE-2)),pygame.SRCALPHA, 32)\n",
    "        self.image.convert_alpha()\n",
    "\n",
    "        for y in range(r):\n",
    "            for x in range(c):\n",
    "                if piece[y][x] == 1:\n",
    "                    self.image.fill(BLUE,(x*SQ_SIZE,y*SQ_SIZE,SQ_SIZE-2, SQ_SIZE-2))\n",
    "                    \n",
    "        self.rect = self.image.get_rect()       \n",
    "        self.rect.x = (DIMENSION+1)*SQ_SIZE\n",
    "        self.rect.y = self.y_off\n",
    "        \n",
    "        \n",
    "\n",
    "        \n",
    "    def move(self, rel_x, rel_y):\n",
    "        self.rect.x += rel_x\n",
    "        self.rect.y += rel_y\n",
    "                    \n",
    "        \n",
    "    def handle_event(self, event):\n",
    "        if event.type == pygame.MOUSEBUTTONDOWN:\n",
    "            location = pygame.mouse.get_pos() # returns x,y location of the mouse\n",
    "            # if mouse press is on board disregard\n",
    "            if location[0]< SQ_SIZE*(DIMENSION+1):\n",
    "                return\n",
    "            elif location[1] < self.y_off:\n",
    "                return\n",
    "            elif location[1] > (self.y_off + (1+self.piece.shape[0])*SQ_SIZE):\n",
    "                return\n",
    "                \n",
    "            mx, my = location[0]//SQ_SIZE, location[1]//SQ_SIZE\n",
    "            y_offset = self.y_off//SQ_SIZE\n",
    "            r,c = self.piece.shape\n",
    "            for i in range(r):\n",
    "                for j in range(c):\n",
    "                    if self.piece[i][j] == 1:\n",
    "                        if mx == ((DIMENSION+1) + j):\n",
    "                            if my == y_offset + i:\n",
    "                                #drag from piece at ij as center\n",
    "                                #piece_draging = True\n",
    "                                #mouse_x, mouse_y = event.pos\n",
    "                                # get piece object function\n",
    "                                #offset_x = rectangle.x - mouse_x\n",
    "                                #offset_y = rectangle.y - mouse_y\n",
    "                                self.clicked = 1\n",
    "                        # if this ends then not the first piece so update to next y piece\n",
    "        \n",
    "        elif event.type == pygame.MOUSEBUTTONUP:\n",
    "            if self.clicked:\n",
    "                #place piece\n",
    "                if not self.placed:\n",
    "                    self.rect.x = (DIMENSION+1)*SQ_SIZE\n",
    "                    self.rect.y = self.y_off\n",
    "                    \n",
    "                self.clicked = 0\n",
    "        elif event.type == pygame.MOUSEMOTION:\n",
    "            if self.clicked:\n",
    "                self.move(event.rel[0], event.rel[1])\n",
    "                \n",
    "                "
   ]
  },
  {
   "cell_type": "code",
   "execution_count": 6,
   "metadata": {},
   "outputs": [],
   "source": [
    "hello = 3\n"
   ]
  },
  {
   "cell_type": "code",
   "execution_count": 7,
   "metadata": {},
   "outputs": [],
   "source": [
    "def drawGameState(screen,gs, square):\n",
    "    drawBoard(screen)\n",
    "    drawPlaced(screen,gs.board, square)\n",
    "    #drawUnplaced(screen,gs,square)"
   ]
  },
  {
   "cell_type": "code",
   "execution_count": 8,
   "metadata": {},
   "outputs": [],
   "source": [
    "def drawBoard(screen):\n",
    "    sudoku_x_offset = 0\n",
    "    sudoku_y_offset = 0\n",
    "    for r in range(DIMENSION):\n",
    "        if (r%3) == 0:\n",
    "                sudoku_y_offset += 3\n",
    "                \n",
    "        for c in range(DIMENSION):\n",
    "            if (c%3) == 0:\n",
    "                sudoku_x_offset += 3\n",
    "            pygame.draw.rect(screen, BLACK, (c*SQ_SIZE+sudoku_x_offset,r*SQ_SIZE+sudoku_y_offset, SQ_SIZE+6, SQ_SIZE+6))\n",
    "            pygame.draw.rect(screen, WHITE, (c*SQ_SIZE+1+sudoku_x_offset,r*SQ_SIZE+1+sudoku_y_offset, SQ_SIZE-2, SQ_SIZE-2))\n",
    "            \n",
    "        sudoku_x_offset = 0"
   ]
  },
  {
   "cell_type": "code",
   "execution_count": 9,
   "metadata": {},
   "outputs": [],
   "source": [
    "def drawPlaced(screen,board,square):\n",
    "    for r in range(DIMENSION):\n",
    "        for c in range(DIMENSION):\n",
    "            if board[r][c] == 1:\n",
    "                screen.blit(square,(c*SQ_SIZE,r*SQ_SIZE, SQ_SIZE, SQ_SIZE))"
   ]
  },
  {
   "cell_type": "code",
   "execution_count": 10,
   "metadata": {},
   "outputs": [],
   "source": [
    "def loadSquare():\n",
    "        square = pygame.transform.scale(pygame.image.load(\"images\\\\blue.jpg\"),(SQ_SIZE,SQ_SIZE))\n",
    "        return square"
   ]
  },
  {
   "cell_type": "code",
   "execution_count": 11,
   "metadata": {
    "scrolled": false
   },
   "outputs": [
    {
     "ename": "SyntaxError",
     "evalue": "unexpected EOF while parsing (<ipython-input-11-d3e59ab3e612>, line 2)",
     "output_type": "error",
     "traceback": [
      "\u001b[1;36m  File \u001b[1;32m\"<ipython-input-11-d3e59ab3e612>\"\u001b[1;36m, line \u001b[1;32m2\u001b[0m\n\u001b[1;33m    \u001b[0m\n\u001b[1;37m    ^\u001b[0m\n\u001b[1;31mSyntaxError\u001b[0m\u001b[1;31m:\u001b[0m unexpected EOF while parsing\n"
     ]
    }
   ],
   "source": [
    "def calculatePoints(gs):\n",
    "    "
   ]
  },
  {
   "cell_type": "code",
   "execution_count": 12,
   "metadata": {},
   "outputs": [],
   "source": [
    "def placePiece(index, board, location, gs):\n",
    "    temp = board.copy()\n",
    "    #print(reset)\n",
    "    piece = gs.pcs[index][0]\n",
    "    \n",
    "    r,c = piece.shape\n",
    "    \n",
    "    pr,pc = location\n",
    "    \n",
    "    for i in range(r):\n",
    "        for j in range(c):\n",
    "            if (piece[i][j] == 1):\n",
    "                if (pr + i > DIMENSION - 1 or pc + j > DIMENSION - 1 or temp[pr+i][pc+j] == 1):\n",
    "                    print(\"invalid spot\")\n",
    "                    return              \n",
    "                if (temp[pr+i][pc+j] == 0):\n",
    "                    temp[pr+i][pc+j] = 1\n",
    "    board = temp\n",
    "    \n",
    "    # set as placed\n",
    "    gs.pcs[index][1] = 1\n",
    "    print('success')\n",
    "    return\n",
    "                "
   ]
  },
  {
   "cell_type": "code",
   "execution_count": 13,
   "metadata": {
    "scrolled": true
   },
   "outputs": [
    {
     "name": "stdout",
     "output_type": "stream",
     "text": [
      "[<Piece sprite(in 1 groups)>, <Piece sprite(in 1 groups)>, <Piece sprite(in 1 groups)>]\n"
     ]
    },
    {
     "ename": "SystemExit",
     "evalue": "",
     "output_type": "error",
     "traceback": [
      "An exception has occurred, use %tb to see the full traceback.\n",
      "\u001b[1;31mSystemExit\u001b[0m\n"
     ]
    },
    {
     "name": "stderr",
     "output_type": "stream",
     "text": [
      "C:\\Users\\Manuel Lopez\\Anaconda3\\lib\\site-packages\\IPython\\core\\interactiveshell.py:2971: UserWarning: To exit: use 'exit', 'quit', or Ctrl-D.\n",
      "  warn(\"To exit: use 'exit', 'quit', or Ctrl-D.\", stacklevel=1)\n"
     ]
    }
   ],
   "source": [
    "def main():\n",
    "    pygame.init()\n",
    "    \n",
    "    DISPLAY=pygame.display.set_mode((896,800))\n",
    "    DISPLAY.fill(WHITE)\n",
    "    \n",
    "    # set the pygame window name \n",
    "    pygame.display.set_caption('Game Window') \n",
    "      \n",
    "    # create a font object. \n",
    "    # 1st parameter is the font file \n",
    "    # which is present in pygame. \n",
    "    # 2nd parameter is size of the font \n",
    "    font = pygame.font.Font('freesansbold.ttf', 20) \n",
    "    all_sprites = pygame.sprite.Group()\n",
    "\n",
    "    gs = GameState(DISPLAY, all_sprites)\n",
    "    square = loadSquare()\n",
    "    running = True\n",
    "    print(gs.pcs)\n",
    "    \n",
    "\n",
    "    while running:\n",
    "        for event in pygame.event.get():\n",
    "            if event.type==QUIT:\n",
    "                pygame.quit()\n",
    "                sys.exit()\n",
    "                \n",
    "            for o in gs.pcs:\n",
    "                o.handle_event(event)\n",
    "        \n",
    "        DISPLAY.fill(WHITE)\n",
    "        drawGameState(DISPLAY,gs, square)\n",
    "        all_sprites.update()\n",
    "        all_sprites.draw(DISPLAY)\n",
    "        \n",
    "        #points = calculatePoints(gs)\n",
    "        score = \"Score: \" + str(300)\n",
    "        \n",
    "        # create a text suface object, \n",
    "        # on which text is drawn on it. \n",
    "        text = font.render(score, True, BLACK) \n",
    "      \n",
    "        # create a rectangular object for the \n",
    "        # text surface object \n",
    "        textRect = text.get_rect()  \n",
    "      \n",
    "        # set the center of the rectangular object. \n",
    "        textRect.center = (288, 676)\n",
    "        DISPLAY.blit(text, textRect)\n",
    "        pygame.display.update()\n",
    "\n",
    "main()"
   ]
  },
  {
   "cell_type": "code",
   "execution_count": 34,
   "metadata": {},
   "outputs": [],
   "source": [
    "# can rotate all pieces with np.rot90(m, k=1)\n",
    "\n",
    "# m \tArray of two or more dimensions. \n",
    "# k \tNumber of times the array is rotated by 90 degrees. \n",
    "\n",
    "\n",
    "pieces = [\n",
    "        np.array([[1, 1],\n",
    "                  [1, 1]]),\n",
    "\n",
    "        np.array([[0, 1, 0],\n",
    "                  [1, 1, 1]]),\n",
    "\n",
    "        np.array([[0, 1, 1],\n",
    "                  [1, 1, 0]]),\n",
    "\n",
    "        np.array([[0, 1, 0],\n",
    "                  [0, 1, 0],\n",
    "                  [1, 1, 1]]),\n",
    "\n",
    "        np.array([[1, 1, 1, 1]]),\n",
    "\n",
    "        np.array([[1, 1, 1]]),\n",
    "\n",
    "        np.array([[0, 1],\n",
    "                  [1, 1]]),\n",
    "\n",
    "        np.array([[1, 0, 0],\n",
    "                  [1, 1, 1]]),\n",
    "\n",
    "        np.array([[1, 0, 0],\n",
    "                  [1, 0, 0],\n",
    "                  [1, 1, 1]]),\n",
    "        \n",
    "        np.array([[1, 1]])\n",
    "    ]"
   ]
  },
  {
   "cell_type": "code",
   "execution_count": 78,
   "metadata": {},
   "outputs": [],
   "source": [
    "gs = GameState()"
   ]
  },
  {
   "cell_type": "code",
   "execution_count": 48,
   "metadata": {},
   "outputs": [
    {
     "data": {
      "text/plain": [
       "array([[0, 0, 0, 0, 0, 0, 0, 0, 0],\n",
       "       [0, 0, 0, 0, 0, 0, 0, 0, 0],\n",
       "       [0, 0, 0, 0, 0, 0, 0, 0, 0],\n",
       "       [0, 0, 0, 0, 0, 0, 0, 0, 0],\n",
       "       [0, 0, 0, 0, 0, 0, 0, 0, 0],\n",
       "       [0, 0, 0, 0, 0, 0, 0, 0, 0],\n",
       "       [0, 0, 0, 0, 0, 0, 0, 0, 0],\n",
       "       [0, 0, 0, 0, 0, 0, 0, 0, 0],\n",
       "       [0, 0, 0, 0, 0, 0, 0, 0, 0]])"
      ]
     },
     "execution_count": 48,
     "metadata": {},
     "output_type": "execute_result"
    }
   ],
   "source": [
    "gs.board"
   ]
  },
  {
   "cell_type": "code",
   "execution_count": 81,
   "metadata": {},
   "outputs": [],
   "source": [
    "def placePiece(index, board, location, gs):\n",
    "    temp = board.copy()\n",
    "    #print(reset)\n",
    "    piece = gs.pcs[index][0]\n",
    "    \n",
    "    r,c = piece.shape\n",
    "    \n",
    "    pr,pc = location\n",
    "    \n",
    "    for i in range(r):\n",
    "        for j in range(c):\n",
    "            if (piece[i][j] == 1):\n",
    "                if (pr + i > DIMENSION - 1 or pc + j > DIMENSION - 1 or temp[pr+i][pc+j] == 1):\n",
    "                    print(\"invalid spot\")\n",
    "                    return              \n",
    "                if (temp[pr+i][pc+j] == 0):\n",
    "                    temp[pr+i][pc+j] = 1\n",
    "    board = temp\n",
    "    \n",
    "    # set as placed\n",
    "    gs.pcs[index][1] = 1\n",
    "    return\n",
    "                "
   ]
  },
  {
   "cell_type": "code",
   "execution_count": 4,
   "metadata": {},
   "outputs": [],
   "source": [
    "testboard = np.array([[0, 0, 0, 0, 0, 0, 0, 0, 0],\n",
    "                      [0, 1, 0, 0, 0, 0, 1, 0, 0],\n",
    "                      [0, 0, 1, 1, 0, 0, 1, 0, 1],\n",
    "                      [0, 1, 1, 0, 1, 0, 1, 0, 0],\n",
    "                      [0, 0, 0, 0, 0, 0, 1, 1, 1],\n",
    "                      [0, 0, 0, 1, 0, 0, 0, 0, 0],\n",
    "                      [0, 0, 0, 0, 0, 0, 0, 0, 0],\n",
    "                      [0, 0, 0, 0, 0, 0, 0, 0, 0],\n",
    "                      [0, 0, 0, 0, 0, 0, 0, 0, 0]])"
   ]
  },
  {
   "cell_type": "code",
   "execution_count": 5,
   "metadata": {},
   "outputs": [],
   "source": [
    "p = pieces[7]\n",
    "\n",
    "p = np.rot90(p, k=2)"
   ]
  },
  {
   "cell_type": "code",
   "execution_count": 6,
   "metadata": {},
   "outputs": [],
   "source": [
    "loc = 3,0"
   ]
  },
  {
   "cell_type": "code",
   "execution_count": 217,
   "metadata": {},
   "outputs": [
    {
     "name": "stdout",
     "output_type": "stream",
     "text": [
      "invalid spot\n"
     ]
    }
   ],
   "source": [
    "placePiece(p, testboard, loc)"
   ]
  },
  {
   "cell_type": "code",
   "execution_count": 218,
   "metadata": {},
   "outputs": [
    {
     "data": {
      "text/plain": [
       "array([[0, 0, 0, 0, 0, 0, 0, 0, 0],\n",
       "       [0, 1, 0, 0, 0, 0, 1, 0, 0],\n",
       "       [0, 0, 1, 1, 0, 0, 1, 0, 1],\n",
       "       [0, 1, 1, 0, 1, 0, 1, 0, 0],\n",
       "       [0, 0, 0, 0, 0, 0, 1, 1, 1],\n",
       "       [0, 0, 0, 1, 0, 0, 0, 0, 0],\n",
       "       [0, 0, 0, 0, 0, 0, 0, 0, 0],\n",
       "       [0, 0, 0, 0, 0, 0, 0, 0, 0],\n",
       "       [0, 0, 0, 0, 0, 0, 0, 0, 0]])"
      ]
     },
     "execution_count": 218,
     "metadata": {},
     "output_type": "execute_result"
    }
   ],
   "source": [
    "testboard"
   ]
  },
  {
   "cell_type": "code",
   "execution_count": 210,
   "metadata": {},
   "outputs": [
    {
     "data": {
      "text/plain": [
       "array([[1, 1, 1],\n",
       "       [0, 0, 1]])"
      ]
     },
     "execution_count": 210,
     "metadata": {},
     "output_type": "execute_result"
    }
   ],
   "source": [
    "p"
   ]
  },
  {
   "cell_type": "code",
   "execution_count": 192,
   "metadata": {},
   "outputs": [
    {
     "data": {
      "text/plain": [
       "(3, 0)"
      ]
     },
     "execution_count": 192,
     "metadata": {},
     "output_type": "execute_result"
    }
   ],
   "source": [
    "loc"
   ]
  },
  {
   "cell_type": "code",
   "execution_count": 7,
   "metadata": {},
   "outputs": [],
   "source": [
    "piece1 = p, 0"
   ]
  },
  {
   "cell_type": "code",
   "execution_count": 10,
   "metadata": {},
   "outputs": [],
   "source": [
    "ps = [piece1]\n"
   ]
  },
  {
   "cell_type": "code",
   "execution_count": 11,
   "metadata": {},
   "outputs": [],
   "source": [
    "ps.append(piece1)"
   ]
  },
  {
   "cell_type": "code",
   "execution_count": 12,
   "metadata": {},
   "outputs": [
    {
     "data": {
      "text/plain": [
       "[(array([[1, 1, 1],\n",
       "         [0, 0, 1]]), 0), (array([[1, 1, 1],\n",
       "         [0, 0, 1]]), 0)]"
      ]
     },
     "execution_count": 12,
     "metadata": {},
     "output_type": "execute_result"
    }
   ],
   "source": [
    "ps"
   ]
  },
  {
   "cell_type": "code",
   "execution_count": 80,
   "metadata": {},
   "outputs": [
    {
     "data": {
      "text/plain": [
       "array([[1, 0],\n",
       "       [1, 1],\n",
       "       [1, 0]])"
      ]
     },
     "execution_count": 80,
     "metadata": {},
     "output_type": "execute_result"
    }
   ],
   "source": [
    "gs.pcs[2][0]"
   ]
  },
  {
   "cell_type": "code",
   "execution_count": 5,
   "metadata": {},
   "outputs": [
    {
     "name": "stderr",
     "output_type": "stream",
     "text": [
      "warning: LF will be replaced by CRLF in src/Blockudoku.ipynb.\n",
      "The file will have its original line endings in your working directory\n",
      "warning: LF will be replaced by CRLF in src/.ipynb_checkpoints/Blockudoku-checkpoint.ipynb.\n",
      "The file will have its original line endings in your working directory\n"
     ]
    }
   ],
   "source": [
    "! git add ."
   ]
  },
  {
   "cell_type": "code",
   "execution_count": 6,
   "metadata": {},
   "outputs": [
    {
     "name": "stdout",
     "output_type": "stream",
     "text": [
      "[master cbca327] test\n",
      " 2 files changed, 819 insertions(+)\n",
      " create mode 100644 src/.ipynb_checkpoints/Blockudoku-checkpoint.ipynb\n"
     ]
    }
   ],
   "source": [
    "! git commit -m \"test\""
   ]
  },
  {
   "cell_type": "code",
   "execution_count": 7,
   "metadata": {},
   "outputs": [
    {
     "name": "stderr",
     "output_type": "stream",
     "text": [
      "To https://github.com/mslopezg/blockudokuAI.git\n",
      "   ec09b99..cbca327  master -> master\n"
     ]
    }
   ],
   "source": [
    "! git push"
   ]
  },
  {
   "cell_type": "code",
   "execution_count": null,
   "metadata": {},
   "outputs": [],
   "source": []
  }
 ],
 "metadata": {
  "kernelspec": {
   "display_name": "Python 3",
   "language": "python",
   "name": "python3"
  },
  "language_info": {
   "codemirror_mode": {
    "name": "ipython",
    "version": 3
   },
   "file_extension": ".py",
   "mimetype": "text/x-python",
   "name": "python",
   "nbconvert_exporter": "python",
   "pygments_lexer": "ipython3",
   "version": "3.6.5"
  }
 },
 "nbformat": 4,
 "nbformat_minor": 2
}
